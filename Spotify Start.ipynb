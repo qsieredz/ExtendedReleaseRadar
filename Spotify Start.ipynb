{
 "cells": [
  {
   "cell_type": "code",
   "execution_count": 1,
   "metadata": {},
   "outputs": [
    {
     "name": "stdout",
     "output_type": "stream",
     "text": [
      "Requirement already satisfied: spotipy in c:\\users\\quentin\\anaconda3\\lib\\site-packages (2.17.1)\n",
      "Requirement already satisfied: six>=1.15.0 in c:\\users\\quentin\\anaconda3\\lib\\site-packages (from spotipy) (1.15.0)\n",
      "Requirement already satisfied: urllib3>=1.26.0 in c:\\users\\quentin\\anaconda3\\lib\\site-packages (from spotipy) (1.26.4)\n",
      "Requirement already satisfied: requests>=2.25.0 in c:\\users\\quentin\\anaconda3\\lib\\site-packages (from spotipy) (2.25.1)\n",
      "Requirement already satisfied: certifi>=2017.4.17 in c:\\users\\quentin\\anaconda3\\lib\\site-packages (from requests>=2.25.0->spotipy) (2019.9.11)\n",
      "Requirement already satisfied: idna<3,>=2.5 in c:\\users\\quentin\\anaconda3\\lib\\site-packages (from requests>=2.25.0->spotipy) (2.8)\n",
      "Requirement already satisfied: chardet<5,>=3.0.2 in c:\\users\\quentin\\anaconda3\\lib\\site-packages (from requests>=2.25.0->spotipy) (3.0.4)\n"
     ]
    }
   ],
   "source": [
    "!pip install spotipy"
   ]
  },
  {
   "cell_type": "code",
   "execution_count": 7,
   "metadata": {},
   "outputs": [],
   "source": [
    "import spotipy\n",
    "from spotipy.oauth2 import SpotifyClientCredentials, SpotifyOAuth\n",
    "import spotipy.util as util\n",
    "import spotipy.oauth2 as oauth2\n",
    "import os\n",
    "import datetime\n",
    "import json\n",
    "date_time = datetime.datetime.today() - datetime.timedelta(days=7)"
   ]
  },
  {
   "cell_type": "code",
   "execution_count": 8,
   "metadata": {},
   "outputs": [],
   "source": [
    "username = \"mr_q_5\" # INSERT YOUR USERNAME HERE\n",
    "\n",
    "os.environ[\"SPOTIPY_CLIENT_ID\"] = '67bafffe4ec743408a81a7ceb10106b5' # client id\n",
    "os.environ[\"SPOTIPY_CLIENT_SECRET\"] = 'ac001e1fac7944e5a786637484adb5d1' # Secret ID\n",
    "os.environ[\"SPOTIPY_REDIRECT_URI\"] = 'http://localhost:7777/callback' # Redirect URI"
   ]
  },
  {
   "cell_type": "code",
   "execution_count": 10,
   "metadata": {},
   "outputs": [],
   "source": [
    "client_credentials_manager = SpotifyClientCredentials(client_id=\"SPOTIPY_CLIENT_ID\",client_secret=\"SPOTIPY_CLIENT_SECRET\")\n",
    "sp = spotipy.Spotify(client_credentials_manager=client_credentials_manager)\n",
    "# oauth2.refresh_access_token()\n",
    "scope = 'playlist-modify-private playlist-modify-public user-follow-read user-library-read' # scope needed for your programme \n",
    "token = util.prompt_for_user_token(username, scope)\n",
    "if token:\n",
    "    sp = spotipy.Spotify(auth=token)\n",
    "else:\n",
    "    print(\"Can't get token for\", username)\n"
   ]
  },
  {
   "cell_type": "code",
   "execution_count": 11,
   "metadata": {},
   "outputs": [],
   "source": [
    "def processAlbum(newAlbums, results, spotify):\n",
    "    albums = results['items']\n",
    "    while results['next']:\n",
    "        results = spotify.next(results)\n",
    "        albums.extend(results['items'])\n",
    "\n",
    "    for album in albums:\n",
    "        if (album['release_date'] > str(date_time)):\n",
    "            newAlbums.append(album['id'])\n",
    "    return newAlbums"
   ]
  },
  {
   "cell_type": "code",
   "execution_count": 12,
   "metadata": {},
   "outputs": [],
   "source": [
    "def checkIfNewAlbums(artistId):\n",
    "    artist = 'spotify:artist:' + artistId\n",
    "    spotify = spotipy.Spotify(client_credentials_manager=SpotifyClientCredentials())\n",
    "\n",
    "    newAlbums = []\n",
    "    \n",
    "    results = spotify.artist_albums(artist, album_type='album')\n",
    "    newAlbums = processAlbum(newAlbums, results, spotify)\n",
    "    \n",
    "    results = spotify.artist_albums(artist, album_type='single')\n",
    "    newAlbums = processAlbum(newAlbums, results, spotify)\n",
    "    \n",
    "    return newAlbums\n"
   ]
  },
  {
   "cell_type": "code",
   "execution_count": 13,
   "metadata": {},
   "outputs": [],
   "source": [
    "def generateFollowingArtistIdList():\n",
    "    sp = spotipy.Spotify(auth_manager=SpotifyOAuth(scope=scope))\n",
    "\n",
    "    results = sp.current_user_followed_artists(limit=50)\n",
    "    resultString = json.dumps(results)\n",
    "    split = resultString.split('https://open.spotify.com/artist/')\n",
    "    followedArtistsId = []\n",
    "\n",
    "\n",
    "    for i in range (1, len(split)):\n",
    "        id = split[i].split('\\\"')\n",
    "        followedArtistsId.append(id[0])\n",
    "\n",
    "    while len(split) > 1: \n",
    "        results = sp.current_user_followed_artists(limit=50, after=followedArtistsId[len(followedArtistsId) - 1])\n",
    "        resultString = json.dumps(results)\n",
    "        split = resultString.split('https://open.spotify.com/artist/')\n",
    "        for i in range (1, len(split)):\n",
    "            id = split[i].split('\\\"')\n",
    "            followedArtistsId.append(id[0])\n",
    "    return followedArtistsId\n"
   ]
  },
  {
   "cell_type": "code",
   "execution_count": 14,
   "metadata": {},
   "outputs": [],
   "source": [
    "def createNewPlaylist():\n",
    "    sp = spotipy.Spotify(auth_manager=SpotifyOAuth(scope=scope))\n",
    "    user_id = sp.me()['id']\n",
    "    playlistId = sp.user_playlist_create(user_id, 'New Songs for the Week')\n",
    "    return playlistId"
   ]
  },
  {
   "cell_type": "code",
   "execution_count": 15,
   "metadata": {},
   "outputs": [],
   "source": [
    "def makeSurePlaylistExists():\n",
    "    sp = spotipy.Spotify(auth_manager=SpotifyOAuth(scope=scope))\n",
    "    user_id = sp.me()['id']\n",
    "    allPlaylists = []\n",
    "\n",
    "    playlistId = None\n",
    "    playlists = sp.user_playlists(username, limit = 50)\n",
    "\n",
    "    for playlist in playlists['items']:\n",
    "        allPlaylists.append(playlist['name'])\n",
    "        if playlist['name'] == 'New Songs for the Week':\n",
    "            playlistId = playlist\n",
    "\n",
    "    while(len(playlists['items']) != 0 ):\n",
    "        playlists = sp.user_playlists(username, limit = 50, offset = len(allPlaylists))\n",
    "\n",
    "        for playlist in playlists['items']:\n",
    "            allPlaylists.append(playlist['name'])\n",
    "            if (playlist['name'] == 'New Songs for the Week'):\n",
    "                playlistId = playlist\n",
    "    \n",
    "    \n",
    "    if (playlistId != None):\n",
    "        sp.current_user_unfollow_playlist(playlistId['id'])\n",
    "    playlistId = createNewPlaylist()\n",
    "        \n",
    "    return playlistId"
   ]
  },
  {
   "cell_type": "code",
   "execution_count": 16,
   "metadata": {},
   "outputs": [],
   "source": [
    "def fillPlaylist(playlistId, albumId, artistId):\n",
    "    sp = spotipy.Spotify(auth_manager=SpotifyOAuth(scope=scope))\n",
    "    songArray = []\n",
    "\n",
    "    results = sp.album_tracks(albumId)\n",
    "    songs = results['items']\n",
    "\n",
    "    while results['next']:\n",
    "        results = sp.next(results)\n",
    "        songs.extend(results['items'])\n",
    "\n",
    "    for song in songs:\n",
    "        songString = json.dumps(song)\n",
    "        if str(artistId) in songString:\n",
    "            songArray.append(song['id'])\n",
    "    sp.playlist_add_items(playlistId, songArray)"
   ]
  },
  {
   "cell_type": "code",
   "execution_count": 17,
   "metadata": {},
   "outputs": [
    {
     "ename": "TypeError",
     "evalue": "'NoneType' object is not subscriptable",
     "output_type": "error",
     "traceback": [
      "\u001b[1;31m---------------------------------------------------------------------------\u001b[0m",
      "\u001b[1;31mTypeError\u001b[0m                                 Traceback (most recent call last)",
      "\u001b[1;32m<ipython-input-17-f57848552cb9>\u001b[0m in \u001b[0;36m<module>\u001b[1;34m\u001b[0m\n\u001b[1;32m----> 1\u001b[1;33m \u001b[0mplaylist\u001b[0m \u001b[1;33m=\u001b[0m \u001b[0mmakeSurePlaylistExists\u001b[0m\u001b[1;33m(\u001b[0m\u001b[1;33m)\u001b[0m\u001b[1;33m\u001b[0m\u001b[1;33m\u001b[0m\u001b[0m\n\u001b[0m\u001b[0;32m      2\u001b[0m \u001b[0mplaylistId\u001b[0m \u001b[1;33m=\u001b[0m \u001b[0mplaylist\u001b[0m\u001b[1;33m[\u001b[0m\u001b[1;34m\"id\"\u001b[0m\u001b[1;33m]\u001b[0m\u001b[1;33m\u001b[0m\u001b[1;33m\u001b[0m\u001b[0m\n\u001b[0;32m      3\u001b[0m \u001b[1;33m\u001b[0m\u001b[0m\n\u001b[0;32m      4\u001b[0m \u001b[0martistId\u001b[0m \u001b[1;33m=\u001b[0m \u001b[1;34m'2AfU5LYBVCiCtuCCfM7uVX'\u001b[0m\u001b[1;33m\u001b[0m\u001b[1;33m\u001b[0m\u001b[0m\n\u001b[0;32m      5\u001b[0m \u001b[1;33m\u001b[0m\u001b[0m\n",
      "\u001b[1;32m<ipython-input-15-81ddfdff3ded>\u001b[0m in \u001b[0;36mmakeSurePlaylistExists\u001b[1;34m()\u001b[0m\n\u001b[0;32m     19\u001b[0m             \u001b[1;32mif\u001b[0m \u001b[1;33m(\u001b[0m\u001b[0mplaylist\u001b[0m\u001b[1;33m[\u001b[0m\u001b[1;34m'name'\u001b[0m\u001b[1;33m]\u001b[0m \u001b[1;33m==\u001b[0m \u001b[1;34m'New Songs for the Week'\u001b[0m\u001b[1;33m)\u001b[0m\u001b[1;33m:\u001b[0m\u001b[1;33m\u001b[0m\u001b[1;33m\u001b[0m\u001b[0m\n\u001b[0;32m     20\u001b[0m                 \u001b[0mplaylistId\u001b[0m \u001b[1;33m=\u001b[0m \u001b[0mplaylist\u001b[0m\u001b[1;33m\u001b[0m\u001b[1;33m\u001b[0m\u001b[0m\n\u001b[1;32m---> 21\u001b[1;33m     \u001b[0msp\u001b[0m\u001b[1;33m.\u001b[0m\u001b[0mcurrent_user_unfollow_playlist\u001b[0m\u001b[1;33m(\u001b[0m\u001b[0mplaylistId\u001b[0m\u001b[1;33m[\u001b[0m\u001b[1;34m'id'\u001b[0m\u001b[1;33m]\u001b[0m\u001b[1;33m)\u001b[0m\u001b[1;33m\u001b[0m\u001b[1;33m\u001b[0m\u001b[0m\n\u001b[0m\u001b[0;32m     22\u001b[0m     \u001b[0mplaylistId\u001b[0m \u001b[1;33m=\u001b[0m \u001b[0mcreateNewPlaylist\u001b[0m\u001b[1;33m(\u001b[0m\u001b[1;33m)\u001b[0m\u001b[1;33m\u001b[0m\u001b[1;33m\u001b[0m\u001b[0m\n\u001b[0;32m     23\u001b[0m \u001b[1;33m\u001b[0m\u001b[0m\n",
      "\u001b[1;31mTypeError\u001b[0m: 'NoneType' object is not subscriptable"
     ]
    }
   ],
   "source": [
    "playlist = makeSurePlaylistExists()\n",
    "playlistId = playlist[\"id\"]\n",
    "\n",
    "artistId = '2AfU5LYBVCiCtuCCfM7uVX'\n",
    "\n",
    "followedArtistsId = generateFollowingArtistIdList()\n",
    "for artistId in followedArtistsId:\n",
    "    albumId = checkIfNewAlbums(artistId)\n",
    "    # print(albumId)\n",
    "    for album in albumId:\n",
    "        fillPlaylist(playlistId, album, artistId)\n",
    "print(\"Done\")"
   ]
  },
  {
   "cell_type": "code",
   "execution_count": null,
   "metadata": {},
   "outputs": [],
   "source": []
  }
 ],
 "metadata": {
  "kernelspec": {
   "display_name": "Python 3",
   "language": "python",
   "name": "python3"
  },
  "language_info": {
   "codemirror_mode": {
    "name": "ipython",
    "version": 3
   },
   "file_extension": ".py",
   "mimetype": "text/x-python",
   "name": "python",
   "nbconvert_exporter": "python",
   "pygments_lexer": "ipython3",
   "version": "3.7.4"
  }
 },
 "nbformat": 4,
 "nbformat_minor": 2
}
